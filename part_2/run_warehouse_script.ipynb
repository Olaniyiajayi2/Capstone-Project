{
 "cells": [
  {
   "cell_type": "code",
   "execution_count": 1,
   "metadata": {},
   "outputs": [
    {
     "name": "stdout",
     "output_type": "stream",
     "text": [
      "Connecting remotely to redshift\n",
      "Successfully Connected to AWS redshift\n",
      "Dropping tables if exist\n",
      "[INFO] dropping tables if exist:DROP TABLE IF EXISTS main_covid_table\n",
      "[INFO] dropping tables if exist:DROP TABLE IF EXISTS us_covid_table\n",
      "[INFO] dropping tables if exist:DROP TABLE IF EXISTS china_covid_table\n",
      "[INFO] dropping tables if exist:DROP TABLE IF EXISTS india_covid_table\n",
      "[INFO] dropping tables if exist:DROP TABLE IF EXISTS russia_covid_table\n",
      "Creating tables\n",
      "[INFO] creating tables:\n",
      "                            CREATE TABLE IF NOT EXISTS main_covid_table(\n",
      "                            SNo INT IDENTITY(1, 1),\n",
      "                            ObservationDate DATETIME,\n",
      "                            state TEXT,\n",
      "                            country TEXT,\n",
      "                            lastUpdate DATE,\n",
      "                            Confirmed DOUBLE PRECISION,\n",
      "                            Deaths DOUBLE PRECISION,\n",
      "                            Recovered DOUBLE PRECISION\n",
      "                            )\n",
      "                            \n",
      "[INFO] creating tables:\n",
      "                            CREATE TABLE IF NOT EXISTS us_covid_table(\n",
      "                            ObservationDate DATETIME,\n",
      "                            state TEXT,\n",
      "                            country TEXT,\n",
      "                            lastUpdate DATE,\n",
      "                            Confirmed DOUBLE PRECISION,\n",
      "                            Deaths DOUBLE PRECISION,\n",
      "                            Recovered DOUBLE PRECISION\n",
      "                            )\n",
      "                            \n",
      "[INFO] creating tables:\n",
      "                            CREATE TABLE IF NOT EXISTS china_covid_table(\n",
      "                            ObservationDate DATETIME,\n",
      "                            state TEXT,\n",
      "                            country TEXT,\n",
      "                            lastUpdate DATE,\n",
      "                            Confirmed DOUBLE PRECISION,\n",
      "                            Deaths DOUBLE PRECISION,\n",
      "                            Recovered DOUBLE PRECISION\n",
      "                            )\n",
      "                            \n",
      "[INFO] creating tables:\n",
      "                            CREATE TABLE IF NOT EXISTS india_covid_table(\n",
      "                            ObservationDate DATETIME,\n",
      "                            state TEXT,\n",
      "                            country TEXT,\n",
      "                            lastUpdate DATE,\n",
      "                            Confirmed DOUBLE PRECISION,\n",
      "                            Deaths DOUBLE PRECISION,\n",
      "                            Recovered DOUBLE PRECISION\n",
      "                            )\n",
      "                            \n",
      "[INFO] creating tables:\n",
      "                            CREATE TABLE IF NOT EXISTS russia_covid_table(\n",
      "                            ObservationDate DATETIME,\n",
      "                            state TEXT,\n",
      "                            country TEXT,\n",
      "                            lastUpdate DATE,\n",
      "                            Confirmed DOUBLE PRECISION,\n",
      "                            Deaths DOUBLE PRECISION,\n",
      "                            Recovered DOUBLE PRECISION\n",
      "                            )\n",
      "                            \n",
      "Tables successfully created\n"
     ]
    }
   ],
   "source": [
    "# Run this cell to execute the create_tables.py in part 2\n",
    "%run create_tables.py"
   ]
  },
  {
   "cell_type": "code",
   "execution_count": 2,
   "metadata": {},
   "outputs": [
    {
     "name": "stdout",
     "output_type": "stream",
     "text": [
      "[INFO] Connection to database done...\n",
      "[INFO] loading tables into redshift...\n",
      "[INFO] Tables loaded...\n",
      "[INFO] Inserting tables...\n",
      "[INFO] Tables loaded...\n"
     ]
    }
   ],
   "source": [
    "# Run this cell to execute the etl.py in part 1\n",
    "%run etl.py"
   ]
  },
  {
   "cell_type": "code",
   "execution_count": null,
   "metadata": {},
   "outputs": [],
   "source": []
  }
 ],
 "metadata": {
  "kernelspec": {
   "display_name": "Python 3",
   "language": "python",
   "name": "python3"
  },
  "language_info": {
   "codemirror_mode": {
    "name": "ipython",
    "version": 3
   },
   "file_extension": ".py",
   "mimetype": "text/x-python",
   "name": "python",
   "nbconvert_exporter": "python",
   "pygments_lexer": "ipython3",
   "version": "3.7.6"
  }
 },
 "nbformat": 4,
 "nbformat_minor": 4
}
